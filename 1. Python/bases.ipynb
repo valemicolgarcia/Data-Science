{
 "cells": [
  {
   "cell_type": "markdown",
   "metadata": {},
   "source": [
    "# Clase de Pyhton"
   ]
  },
  {
   "cell_type": "markdown",
   "metadata": {},
   "source": [
    "### Tipos de Datos "
   ]
  },
  {
   "cell_type": "code",
   "execution_count": 13,
   "metadata": {},
   "outputs": [],
   "source": [
    "a = 8 #entero\n",
    "b = '8.7' #flotantes\n",
    "c = 'holaValeria' #string\n",
    "d = True #boolean\n",
    "e = 5j #complejos"
   ]
  },
  {
   "cell_type": "markdown",
   "metadata": {},
   "source": [
    "### Estructuras "
   ]
  },
  {
   "cell_type": "code",
   "execution_count": 160,
   "metadata": {},
   "outputs": [],
   "source": [
    "listas = ['valeria', 19, True] #mutable, ordenada, acepta duplicados\n",
    "sets = {1,False,4}  #mutable, desordenado, no acepta duplicados\n",
    "tuplas = (1, 'juan', 3j) #inmutable, ordenado, acepta duplicados\n",
    "diccionario = {'nombres' : ['valeria', 'micol'] ,  #mutable, no acepta duplicado\n",
    "                'apellido': ['garcia', 'perez']}\n",
    "\n",
    "\n"
   ]
  },
  {
   "cell_type": "markdown",
   "metadata": {},
   "source": [
    "### String"
   ]
  },
  {
   "cell_type": "code",
   "execution_count": 148,
   "metadata": {},
   "outputs": [
    {
     "data": {
      "text/plain": [
       "'h'"
      ]
     },
     "execution_count": 148,
     "metadata": {},
     "output_type": "execute_result"
    }
   ],
   "source": [
    "string = 'hola como estas'\n",
    "string [0]"
   ]
  },
  {
   "cell_type": "markdown",
   "metadata": {},
   "source": [
    "METODOS DE STRING"
   ]
  },
  {
   "cell_type": "code",
   "execution_count": 154,
   "metadata": {},
   "outputs": [
    {
     "data": {
      "text/plain": [
       "['hola', 'como', 'estas']"
      ]
     },
     "execution_count": 154,
     "metadata": {},
     "output_type": "execute_result"
    }
   ],
   "source": [
    "string.upper() #pasa a mayusculas\n",
    "string.title() #pone todas las palabras con primer letra mayuscula\n",
    "string.lower() #todo a minuscula\n",
    "string.capitalize() #primer letra mayuscula\n",
    "string.find('hola')\n",
    "string.join('chicos') #pone cada palabra del string adelante de la frase\n",
    "string.replace('hola','chau') #reemplaza hola por chau\n",
    "string.lstrip() #agrega un espacio atras\n",
    "string.rstrip() #agrega un espacio adelante\n",
    "string = string.strip()\n",
    "string.split(\" \") #splitea los elementos dentro del string\n",
    "\n"
   ]
  },
  {
   "cell_type": "code",
   "execution_count": 151,
   "metadata": {},
   "outputs": [],
   "source": [
    "\n"
   ]
  },
  {
   "cell_type": "markdown",
   "metadata": {},
   "source": [
    "### Operaciones Aritmeticas"
   ]
  },
  {
   "cell_type": "markdown",
   "metadata": {},
   "source": [
    "- Suma --> a + b ..... a += b\n",
    "- Resta --> a - b ..... a -= b\n",
    "- Multiplicacion --> a * b ..... a *= b\n",
    "- Division --> a / b ..... a /= b\n",
    "- Division Entera --> a // b ..... a //= b\n",
    "- Resto de la Division --> a % b ..... a %= b\n",
    "- Exponenciacion --> a ** b ..... a **= b\n"
   ]
  },
  {
   "cell_type": "markdown",
   "metadata": {},
   "source": [
    "### Acceso a estructuras"
   ]
  },
  {
   "cell_type": "code",
   "execution_count": 65,
   "metadata": {},
   "outputs": [
    {
     "data": {
      "text/plain": [
       "'valeria'"
      ]
     },
     "execution_count": 65,
     "metadata": {},
     "output_type": "execute_result"
    }
   ],
   "source": [
    "listas[0] #primer elemento de la lista\n",
    "tuplas [0]\n",
    "c[0] #primer letra del string\n",
    "c[:5] #recorte de una parte del string\n",
    "listas[::] #me trae toda la lista\n",
    "listas[:2] #los dos primeros elementos de la lista\n",
    "listas [:-1] #todos menos el ultimo\n",
    "listas [1:] #todos menos el primero\n",
    "diccionario['nombres'][0] #accedo al primer elemento de la lista de la key nombre\n"
   ]
  },
  {
   "cell_type": "markdown",
   "metadata": {},
   "source": [
    "### Metodos de las estructuras"
   ]
  },
  {
   "cell_type": "markdown",
   "metadata": {},
   "source": [
    "LISTAS\n",
    "- len\n",
    "- sort\n",
    "- pop\n",
    "- append\n",
    "- extend\n",
    "- insert"
   ]
  },
  {
   "cell_type": "code",
   "execution_count": 166,
   "metadata": {},
   "outputs": [
    {
     "name": "stdout",
     "output_type": "stream",
     "text": [
      "[1, 2, 2, 4, 6]\n",
      "[6, 4, 2, 2, 1]\n",
      "[6, 4, 2, 2, 1, 5]\n",
      "[6, 4, 2, 2, 1, 5, 1, 2, 3]\n",
      "[6, 'chau', 'chau', 4, 2, 2, 1, 5, 1, 2, 3]\n",
      "[6, 'chau', 4, 2, 2, 1, 5, 1, 2, 3]\n",
      "LISTA 3\n"
     ]
    },
    {
     "data": {
      "text/plain": [
       "4"
      ]
     },
     "execution_count": 166,
     "metadata": {},
     "output_type": "execute_result"
    }
   ],
   "source": [
    "listas = [1,2,5,6,6,1,3,1]\n",
    "len (listas)\n",
    "\n",
    "listas.pop(0)  #eliminar elemento\n",
    "listas2 = [4,2,1,6,2]\n",
    "\n",
    "listas2.sort() #funciona con el mismo tipo de dato\n",
    "print (listas2)\n",
    "\n",
    "listas2.sort (reverse=True)\n",
    "print (listas2)\n",
    "\n",
    "listas2.append(5) #agregar elemento\n",
    "\n",
    "listaExtra = [1,2,3]\n",
    "print (listas2)\n",
    "listas2.extend (listaExtra)\n",
    "print (listas2)\n",
    "\n",
    "listas2.insert (1, 'chau') #inserta chau en la posicion 1\n",
    "listas2.insert (2, 'chau') #inserta chau en la posicion 1\n",
    "\n",
    "print (listas2)\n",
    "\n",
    "listas2.remove('chau') #elimina el parametro pasado una vez\n",
    "print (listas2)\n",
    "\n",
    "print (\"LISTA 3\")\n",
    "lista3 = [1,2,4,5,6,1]\n",
    "sorted (lista3) #ordena los elementos\n",
    "\n",
    "min (lista)\n",
    "max (lista)\n",
    "\n"
   ]
  },
  {
   "cell_type": "markdown",
   "metadata": {},
   "source": [
    "DICCIONARIOS\n",
    "- keys\n",
    "- pop\n",
    "- values\n",
    "- get\n",
    "- setDefault"
   ]
  },
  {
   "cell_type": "code",
   "execution_count": 130,
   "metadata": {},
   "outputs": [
    {
     "name": "stdout",
     "output_type": "stream",
     "text": [
      "{'nombres': ['valeria', 'micol'], 'apellido': ['garcia', 'perez']}\n"
     ]
    },
    {
     "data": {
      "text/plain": [
       "['blanco', 'azul', 'negro']"
      ]
     },
     "execution_count": 130,
     "metadata": {},
     "output_type": "execute_result"
    }
   ],
   "source": [
    "print (diccionario)\n",
    "\n",
    "diccionario.keys() #accedo a los nombres de las keys\n",
    "diccionario.pop('apellido') #elimino elemento\n",
    "diccionario.values()\n",
    "diccionario.get ('nombres')\n",
    "diccionario.setdefault('colores' , ['blanco', 'azul', 'negro'])\n",
    "#print (diccionario)"
   ]
  },
  {
   "cell_type": "markdown",
   "metadata": {},
   "source": [
    "### Metodos de control de Flujo"
   ]
  },
  {
   "cell_type": "markdown",
   "metadata": {},
   "source": [
    "IF / ELSE "
   ]
  },
  {
   "cell_type": "code",
   "execution_count": 53,
   "metadata": {},
   "outputs": [
    {
     "name": "stdout",
     "output_type": "stream",
     "text": [
      "micol\n"
     ]
    }
   ],
   "source": [
    "i = 10\n",
    "if (i == 19):\n",
    "    print ('vale')\n",
    "elif (i >= 19 ):\n",
    "    print ('garcia')\n",
    "else:\n",
    "    print ('micol')"
   ]
  },
  {
   "cell_type": "markdown",
   "metadata": {},
   "source": [
    "FOR "
   ]
  },
  {
   "cell_type": "code",
   "execution_count": 51,
   "metadata": {},
   "outputs": [
    {
     "name": "stdout",
     "output_type": "stream",
     "text": [
      "FOR EACH\n",
      "1\n",
      "2\n",
      "3\n",
      "4\n",
      "FOR \n",
      "0\n",
      "3\n",
      "6\n",
      "9\n"
     ]
    }
   ],
   "source": [
    "lista = [1,2,3,4]\n",
    "\n",
    "print (\"FOR EACH\")\n",
    "for i in lista:\n",
    "    print (i)\n",
    "\n",
    "print (\"FOR \")\n",
    "for i in range(0,11,3): # (inicio, fin, paso) de 0 a 11 cada 2\n",
    "    print (i)"
   ]
  },
  {
   "cell_type": "markdown",
   "metadata": {},
   "source": [
    "WHILE"
   ]
  },
  {
   "cell_type": "code",
   "execution_count": 40,
   "metadata": {},
   "outputs": [
    {
     "name": "stdout",
     "output_type": "stream",
     "text": [
      "0\n",
      "1\n",
      "2\n",
      "3\n",
      "4\n"
     ]
    }
   ],
   "source": [
    "i = 0\n",
    "while (i < 5) : #los () pueden estar o no\n",
    "    print (i)\n",
    "    i += 1"
   ]
  },
  {
   "cell_type": "markdown",
   "metadata": {},
   "source": [
    "### Funciones"
   ]
  },
  {
   "cell_type": "code",
   "execution_count": 63,
   "metadata": {},
   "outputs": [
    {
     "name": "stdout",
     "output_type": "stream",
     "text": [
      "El argumento luego de pasar por la funcion queda: 10\n"
     ]
    }
   ],
   "source": [
    "def nombre (argumento):\n",
    "    argumento = argumento * 9\n",
    "    total = argumento + 10\n",
    "    return (total)\n",
    "\n",
    "argumento = 10\n",
    "nombre (argumento)\n",
    "print (f'El argumento luego de pasar por la funcion queda: {argumento}')\n"
   ]
  }
 ],
 "metadata": {
  "kernelspec": {
   "display_name": "Python 3 (ipykernel)",
   "language": "python",
   "name": "python3"
  },
  "language_info": {
   "codemirror_mode": {
    "name": "ipython",
    "version": 3
   },
   "file_extension": ".py",
   "mimetype": "text/x-python",
   "name": "python",
   "nbconvert_exporter": "python",
   "pygments_lexer": "ipython3",
   "version": "3.11.7"
  }
 },
 "nbformat": 4,
 "nbformat_minor": 2
}
